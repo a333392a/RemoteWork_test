{
 "cells": [
  {
   "cell_type": "code",
   "execution_count": 1,
   "id": "5a9152b5-247c-49dc-b6f0-2af805df3f81",
   "metadata": {},
   "outputs": [],
   "source": [
    "from bs4 import BeautifulSoup\n",
    "import requests\n",
    "import json"
   ]
  },
  {
   "cell_type": "code",
   "execution_count": 2,
   "id": "4548861a-d5ce-4a29-a7c5-1f69967e26e6",
   "metadata": {},
   "outputs": [],
   "source": [
    "def get_date(str_date,end_date):\n",
    "    data = {\n",
    "        \"curr_id\": \"6408\",\n",
    "        \"smlID\": \"1159963\",\n",
    "        \"header\": \"AAPL历史数据\",\n",
    "        \"st_date\": str_date,\n",
    "        \"end_date\": end_date,\n",
    "        \"interval_sec\": \"Daily\",\n",
    "        \"sort_col\": \"date\",\n",
    "        \"sort_ord\": \"DESC\",\n",
    "        \"action\": \"historical_data\"\n",
    "    }\n",
    "    return data"
   ]
  },
  {
   "cell_type": "code",
   "execution_count": 3,
   "id": "fd3949fc-4a1a-4c0d-a571-00808a5225c6",
   "metadata": {},
   "outputs": [],
   "source": [
    "def req(data):\n",
    "    ajx_url = \"https://cn.investing.com/instruments/HistoricalDataAjax\"\n",
    "\n",
    "    header={\n",
    "        'User-Agent':'Mozilla/5.0 (Windows NT 6.1; WOW64) AppleWebKit/537.36 (KHTML, like Gecko) Chrome/41.0.2227.0 Safari/537.36',\n",
    "        'X-Requested-With': 'XMLHttpRequest',\n",
    "        'Content-Type': 'application/x-www-form-urlencoded'\n",
    "    }\n",
    "    date = requests.post(ajx_url, data=data, headers=header)\n",
    "\n",
    "    soup = BeautifulSoup(date.text,'html.parser')\n",
    "\n",
    "    all_tag = soup.find('tbody')\n",
    "    data_tag = all_tag.find_all('td')\n",
    "\n",
    "    dic_key = [\"日期\",\"收盤\",\"開盤\",\"高\",\"低\",\"交易量\",\"漲跌幅\"]\n",
    "    con = 0\n",
    "\n",
    "    one_data = []\n",
    "    all_data = []\n",
    "    for i in data_tag:\n",
    "        one_data += i\n",
    "        if con == 6:\n",
    "            all_data.append(one_data)\n",
    "            one_data = []\n",
    "            con = 0\n",
    "        else:\n",
    "            con += 1\n",
    "\n",
    "    fin = []\n",
    "    for i in all_data:\n",
    "        a = dict(zip(dic_key,i))\n",
    "        fin.append(a)\n",
    "\n",
    "    with open('output_data.json', 'w') as outfile:\n",
    "        json.dump(fin, outfile)\n",
    "#     for i in fin:\n",
    "#         print(i)"
   ]
  },
  {
   "cell_type": "code",
   "execution_count": 4,
   "id": "dd6e0970-547c-43bd-bc41-84e6bd021759",
   "metadata": {},
   "outputs": [
    {
     "name": "stdin",
     "output_type": "stream",
     "text": [
      "輸入開始日期(日期格式yyyy/mm/dd) 2021/06/05\n",
      "輸入結束日期(日期格式yyyy/mm/dd) 2021/07/05\n"
     ]
    }
   ],
   "source": [
    "if __name__ == \"__main__\":\n",
    "    str_date = input('輸入開始日期(日期格式yyyy/mm/dd)')\n",
    "    end_date = input('輸入結束日期(日期格式yyyy/mm/dd)')\n",
    "    req(get_date(str_date,end_date))"
   ]
  },
  {
   "cell_type": "code",
   "execution_count": null,
   "id": "101f3d68-1a81-43d3-87d5-a62dc5686700",
   "metadata": {},
   "outputs": [],
   "source": []
  }
 ],
 "metadata": {
  "kernelspec": {
   "display_name": "Python 3",
   "language": "python",
   "name": "python3"
  },
  "language_info": {
   "codemirror_mode": {
    "name": "ipython",
    "version": 3
   },
   "file_extension": ".py",
   "mimetype": "text/x-python",
   "name": "python",
   "nbconvert_exporter": "python",
   "pygments_lexer": "ipython3",
   "version": "3.8.8"
  }
 },
 "nbformat": 4,
 "nbformat_minor": 5
}
